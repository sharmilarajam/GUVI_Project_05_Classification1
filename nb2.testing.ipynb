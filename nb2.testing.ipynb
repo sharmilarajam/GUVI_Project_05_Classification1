{
 "cells": [
  {
   "cell_type": "code",
   "execution_count": 1,
   "id": "38ce50f2",
   "metadata": {},
   "outputs": [
    {
     "name": "stderr",
     "output_type": "stream",
     "text": [
      "C:\\Users\\VINOTH\\AppData\\Local\\Temp\\ipykernel_9460\\2694159657.py:3: DtypeWarning: Columns (10,11) have mixed types. Specify dtype option on import or set low_memory=False.\n",
      "  df = pd.read_csv(\"C:\\\\Users\\\\VINOTH\\\\Downloads\\\\GUIDE_Test.csv\\\\GUIDE_Test.csv\")\n"
     ]
    },
    {
     "name": "stdout",
     "output_type": "stream",
     "text": [
      "                    Id  OrgId  IncidentId  AlertId                 Timestamp  \\\n",
      "0        1245540519230    657       11767    87199  2024-06-04T22:56:27.000Z   \n",
      "1        1400159342154      3       91158   632273  2024-06-03T12:58:26.000Z   \n",
      "2        1279900255923    145       32247   131719  2024-06-08T03:20:49.000Z   \n",
      "3          60129547292    222       15294   917686  2024-06-12T12:07:31.000Z   \n",
      "4         515396080539    363        7615     5944  2024-06-06T17:42:05.000Z   \n",
      "...                ...    ...         ...      ...                       ...   \n",
      "4147987   541165881145    262        3017   227156  2024-06-04T03:53:15.000Z   \n",
      "4147988   438086666953   1323       31001   304819  2024-06-04T19:32:19.000Z   \n",
      "4147989  1297080124487     47        3653     7243  2024-06-15T00:50:22.000Z   \n",
      "4147990   627065226886     70        4243    19142  2024-06-11T16:18:12.000Z   \n",
      "4147991   326417516547    227        8384    33529  2024-06-04T18:11:09.000Z   \n",
      "\n",
      "         DetectorId  AlertTitle           Category  \\\n",
      "0               524         563    LateralMovement   \n",
      "1                 2           2  CommandAndControl   \n",
      "2              2932       10807    LateralMovement   \n",
      "3                 0           0      InitialAccess   \n",
      "4                27          18          Discovery   \n",
      "...             ...         ...                ...   \n",
      "4147987         139         120      InitialAccess   \n",
      "4147988         219         196      InitialAccess   \n",
      "4147989          57          29  CommandAndControl   \n",
      "4147990           1           1      InitialAccess   \n",
      "4147991           1           1      InitialAccess   \n",
      "\n",
      "                         MitreTechniques   IncidentGrade  ...       Roles  \\\n",
      "0            T1021;T1047;T1105;T1569.002  BenignPositive  ...         NaN   \n",
      "1                                    NaN  BenignPositive  ...         NaN   \n",
      "2        T1021;T1027.002;T1027.005;T1105  BenignPositive  ...         NaN   \n",
      "3                        T1078;T1078.004   FalsePositive  ...         NaN   \n",
      "4                        T1087;T1087.002  BenignPositive  ...  Suspicious   \n",
      "...                                  ...             ...  ...         ...   \n",
      "4147987                        T1566.002  BenignPositive  ...         NaN   \n",
      "4147988                              NaN  BenignPositive  ...         NaN   \n",
      "4147989                T1046;T1071;T1210   FalsePositive  ...         NaN   \n",
      "4147990                        T1566.002  BenignPositive  ...         NaN   \n",
      "4147991                        T1566.002    TruePositive  ...         NaN   \n",
      "\n",
      "        OSFamily OSVersion AntispamDirection  SuspicionLevel     LastVerdict  \\\n",
      "0              5        66               NaN      Suspicious      Suspicious   \n",
      "1              0         0               NaN      Suspicious      Suspicious   \n",
      "2              5        66               NaN      Suspicious      Suspicious   \n",
      "3              5        66               NaN             NaN             NaN   \n",
      "4              5        66               NaN             NaN             NaN   \n",
      "...          ...       ...               ...             ...             ...   \n",
      "4147987        5        66               NaN             NaN             NaN   \n",
      "4147988        5        66               NaN             NaN             NaN   \n",
      "4147989        5        66               NaN             NaN             NaN   \n",
      "4147990        5        66               NaN             NaN             NaN   \n",
      "4147991        5        66               NaN             NaN  NoThreatsFound   \n",
      "\n",
      "         CountryCode  State   City    Usage  \n",
      "0                242   1445  10630  Private  \n",
      "1                242   1445  10630   Public  \n",
      "2                242   1445  10630   Public  \n",
      "3                242   1445  10630   Public  \n",
      "4                242   1445  10630   Public  \n",
      "...              ...    ...    ...      ...  \n",
      "4147987          242   1445  10630   Public  \n",
      "4147988          242   1445  10630  Private  \n",
      "4147989          242   1445  10630   Public  \n",
      "4147990          242   1445  10630  Private  \n",
      "4147991          242   1445  10630   Public  \n",
      "\n",
      "[4147992 rows x 46 columns]\n"
     ]
    }
   ],
   "source": [
    "import pandas as pd\n",
    "\n",
    "df = pd.read_csv(\"C:\\\\Users\\\\VINOTH\\\\Downloads\\\\GUIDE_Test.csv\\\\GUIDE_Test.csv\")\n",
    "print(df)\n"
   ]
  },
  {
   "cell_type": "code",
   "execution_count": 2,
   "id": "b6a175a7",
   "metadata": {},
   "outputs": [
    {
     "data": {
      "text/plain": [
       "Index(['Id', 'OrgId', 'IncidentId', 'AlertId', 'Timestamp', 'DetectorId',\n",
       "       'AlertTitle', 'Category', 'MitreTechniques', 'IncidentGrade',\n",
       "       'ActionGrouped', 'ActionGranular', 'EntityType', 'EvidenceRole',\n",
       "       'DeviceId', 'Sha256', 'IpAddress', 'Url', 'AccountSid', 'AccountUpn',\n",
       "       'AccountObjectId', 'AccountName', 'DeviceName', 'NetworkMessageId',\n",
       "       'EmailClusterId', 'RegistryKey', 'RegistryValueName',\n",
       "       'RegistryValueData', 'ApplicationId', 'ApplicationName',\n",
       "       'OAuthApplicationId', 'ThreatFamily', 'FileName', 'FolderPath',\n",
       "       'ResourceIdName', 'ResourceType', 'Roles', 'OSFamily', 'OSVersion',\n",
       "       'AntispamDirection', 'SuspicionLevel', 'LastVerdict', 'CountryCode',\n",
       "       'State', 'City', 'Usage'],\n",
       "      dtype='object')"
      ]
     },
     "execution_count": 2,
     "metadata": {},
     "output_type": "execute_result"
    }
   ],
   "source": [
    "df.columns"
   ]
  },
  {
   "cell_type": "code",
   "execution_count": 3,
   "id": "40fad32a",
   "metadata": {},
   "outputs": [
    {
     "data": {
      "text/plain": [
       "Id                          0\n",
       "OrgId                       0\n",
       "IncidentId                  0\n",
       "AlertId                     0\n",
       "Timestamp                   0\n",
       "DetectorId                  0\n",
       "AlertTitle                  0\n",
       "Category                    0\n",
       "MitreTechniques       2307104\n",
       "IncidentGrade               0\n",
       "ActionGrouped         4146079\n",
       "ActionGranular        4146079\n",
       "EntityType                  0\n",
       "EvidenceRole                0\n",
       "DeviceId                    0\n",
       "Sha256                      0\n",
       "IpAddress                   0\n",
       "Url                         0\n",
       "AccountSid                  0\n",
       "AccountUpn                  0\n",
       "AccountObjectId             0\n",
       "AccountName                 0\n",
       "DeviceName                  0\n",
       "NetworkMessageId            0\n",
       "EmailClusterId        4106285\n",
       "RegistryKey                 0\n",
       "RegistryValueName           0\n",
       "RegistryValueData           0\n",
       "ApplicationId               0\n",
       "ApplicationName             0\n",
       "OAuthApplicationId          0\n",
       "ThreatFamily          4116614\n",
       "FileName                    0\n",
       "FolderPath                  0\n",
       "ResourceIdName              0\n",
       "ResourceType          4144998\n",
       "Roles                 4039317\n",
       "OSFamily                    0\n",
       "OSVersion                   0\n",
       "AntispamDirection     4071481\n",
       "SuspicionLevel        3498157\n",
       "LastVerdict           3155260\n",
       "CountryCode                 0\n",
       "State                       0\n",
       "City                        0\n",
       "Usage                       0\n",
       "dtype: int64"
      ]
     },
     "execution_count": 3,
     "metadata": {},
     "output_type": "execute_result"
    }
   ],
   "source": [
    "df.isnull().sum()"
   ]
  },
  {
   "cell_type": "code",
   "execution_count": 4,
   "id": "09e36bfc",
   "metadata": {},
   "outputs": [
    {
     "data": {
      "text/plain": [
       "Id                      int64\n",
       "OrgId                   int64\n",
       "IncidentId              int64\n",
       "AlertId                 int64\n",
       "Timestamp              object\n",
       "DetectorId              int64\n",
       "AlertTitle              int64\n",
       "Category               object\n",
       "MitreTechniques        object\n",
       "IncidentGrade          object\n",
       "ActionGrouped          object\n",
       "ActionGranular         object\n",
       "EntityType             object\n",
       "EvidenceRole           object\n",
       "DeviceId                int64\n",
       "Sha256                  int64\n",
       "IpAddress               int64\n",
       "Url                     int64\n",
       "AccountSid              int64\n",
       "AccountUpn              int64\n",
       "AccountObjectId         int64\n",
       "AccountName             int64\n",
       "DeviceName              int64\n",
       "NetworkMessageId        int64\n",
       "EmailClusterId        float64\n",
       "RegistryKey             int64\n",
       "RegistryValueName       int64\n",
       "RegistryValueData       int64\n",
       "ApplicationId           int64\n",
       "ApplicationName         int64\n",
       "OAuthApplicationId      int64\n",
       "ThreatFamily           object\n",
       "FileName                int64\n",
       "FolderPath              int64\n",
       "ResourceIdName          int64\n",
       "ResourceType           object\n",
       "Roles                  object\n",
       "OSFamily                int64\n",
       "OSVersion               int64\n",
       "AntispamDirection      object\n",
       "SuspicionLevel         object\n",
       "LastVerdict            object\n",
       "CountryCode             int64\n",
       "State                   int64\n",
       "City                    int64\n",
       "Usage                  object\n",
       "dtype: object"
      ]
     },
     "execution_count": 4,
     "metadata": {},
     "output_type": "execute_result"
    }
   ],
   "source": [
    "df.dtypes\n"
   ]
  },
  {
   "cell_type": "code",
   "execution_count": 5,
   "id": "5896ca6b",
   "metadata": {},
   "outputs": [],
   "source": [
    "df.isnull().sum()\n",
    "df.dropna(thresh=0.9 * len(df), axis=1, inplace=True)  # drop columns with >90% NaNs\n"
   ]
  },
  {
   "cell_type": "code",
   "execution_count": 20,
   "id": "aa61ee96",
   "metadata": {},
   "outputs": [
    {
     "data": {
      "text/plain": [
       "Index(['Timestamp', 'DetectorId', 'AlertTitle', 'Category', 'IncidentGrade',\n",
       "       'EntityType', 'EvidenceRole', 'DeviceId', 'Sha256', 'IpAddress', 'Url',\n",
       "       'AccountSid', 'AccountUpn', 'AccountObjectId', 'AccountName',\n",
       "       'DeviceName', 'NetworkMessageId', 'RegistryKey', 'RegistryValueName',\n",
       "       'RegistryValueData', 'ApplicationId', 'ApplicationName',\n",
       "       'OAuthApplicationId', 'FileName', 'FolderPath', 'ResourceIdName',\n",
       "       'OSFamily', 'OSVersion', 'CountryCode', 'State', 'City', 'Usage'],\n",
       "      dtype='object')"
      ]
     },
     "execution_count": 20,
     "metadata": {},
     "output_type": "execute_result"
    }
   ],
   "source": [
    "df.columns"
   ]
  },
  {
   "cell_type": "code",
   "execution_count": 21,
   "id": "526d9676",
   "metadata": {},
   "outputs": [
    {
     "data": {
      "text/plain": [
       "Timestamp             0\n",
       "DetectorId            0\n",
       "AlertTitle            0\n",
       "Category              0\n",
       "IncidentGrade         0\n",
       "EntityType            0\n",
       "EvidenceRole          0\n",
       "DeviceId              0\n",
       "Sha256                0\n",
       "IpAddress             0\n",
       "Url                   0\n",
       "AccountSid            0\n",
       "AccountUpn            0\n",
       "AccountObjectId       0\n",
       "AccountName           0\n",
       "DeviceName            0\n",
       "NetworkMessageId      0\n",
       "RegistryKey           0\n",
       "RegistryValueName     0\n",
       "RegistryValueData     0\n",
       "ApplicationId         0\n",
       "ApplicationName       0\n",
       "OAuthApplicationId    0\n",
       "FileName              0\n",
       "FolderPath            0\n",
       "ResourceIdName        0\n",
       "OSFamily              0\n",
       "OSVersion             0\n",
       "CountryCode           0\n",
       "State                 0\n",
       "City                  0\n",
       "Usage                 0\n",
       "dtype: int64"
      ]
     },
     "execution_count": 21,
     "metadata": {},
     "output_type": "execute_result"
    }
   ],
   "source": [
    "df.isnull().sum()"
   ]
  },
  {
   "cell_type": "code",
   "execution_count": 27,
   "id": "8d6daa1a",
   "metadata": {},
   "outputs": [],
   "source": [
    "from sklearn.preprocessing import LabelEncoder\n",
    "with open(\"label_encoder.pkl\", \"rb\") as f:\n",
    "    le = pickle.load(f)\n",
    "\n",
    "# # Step 1: Identify categorical columns\n",
    "categorical_cols = df.select_dtypes(include='object').columns.tolist()\n",
    "\n",
    "# # Step 2: Initialize label encoder\n",
    "# le = LabelEncoder()\n",
    "\n",
    "# Step 3: Apply label encoding to each categorical column\n",
    "for col in categorical_cols:\n",
    "    df[col] = df[col].astype(str)  # Convert to string if needed\n",
    "    df[col] = le.fit_transform(df[col])\n"
   ]
  },
  {
   "cell_type": "code",
   "execution_count": 28,
   "id": "06714781",
   "metadata": {},
   "outputs": [],
   "source": [
    "#df_test = df.drop('IncidentGrade', axis=1) "
   ]
  },
  {
   "cell_type": "code",
   "execution_count": 26,
   "id": "a059902e",
   "metadata": {},
   "outputs": [],
   "source": [
    "import pickle\n",
    "\n",
    "# Load the model\n",
    "with open(\"xgb_model.pkl\", \"rb\") as file:\n",
    "    model = pickle.load(file)\n"
   ]
  },
  {
   "cell_type": "code",
   "execution_count": 29,
   "id": "929fea63",
   "metadata": {},
   "outputs": [
    {
     "name": "stderr",
     "output_type": "stream",
     "text": [
      "C:\\Users\\VINOTH\\AppData\\Roaming\\Python\\Python312\\site-packages\\xgboost\\training.py:183: UserWarning: [18:23:43] WARNING: C:\\actions-runner\\_work\\xgboost\\xgboost\\src\\learner.cc:738: \n",
      "Parameters: { \"use_label_encoder\" } are not used.\n",
      "\n",
      "  bst.update(dtrain, iteration=i, fobj=obj)\n"
     ]
    }
   ],
   "source": [
    "# Split features and target\n",
    "X = df.drop('IncidentGrade', axis=1)\n",
    "y = df['IncidentGrade']\n",
    "\n",
    "# Fit the model\n",
    "model.fit(X, y)\n",
    "\n",
    "# Predict using the trained model\n",
    "y_pred = model.predict(X)\n"
   ]
  },
  {
   "cell_type": "code",
   "execution_count": 30,
   "id": "56cfdd2d",
   "metadata": {},
   "outputs": [
    {
     "name": "stdout",
     "output_type": "stream",
     "text": [
      "Accuracy: 0.8203668184509517\n",
      "\n",
      "Classification Report:\n",
      "              precision    recall  f1-score   support\n",
      "\n",
      "           0       0.76      0.96      0.85   1752940\n",
      "           1       0.89      0.64      0.74    902698\n",
      "           2       0.90      0.77      0.83   1492354\n",
      "\n",
      "    accuracy                           0.82   4147992\n",
      "   macro avg       0.85      0.79      0.81   4147992\n",
      "weighted avg       0.84      0.82      0.82   4147992\n",
      "\n",
      "\n",
      "Confusion Matrix:\n",
      "[[1678110   35151   39679]\n",
      " [ 230959  578889   92850]\n",
      " [ 308962   37516 1145876]]\n"
     ]
    }
   ],
   "source": [
    "from sklearn.metrics import accuracy_score, classification_report, confusion_matrix\n",
    "\n",
    "accuracy = accuracy_score(y, y_pred)\n",
    "print(\"Accuracy:\", accuracy)\n",
    "\n",
    "print(\"\\nClassification Report:\")\n",
    "print(classification_report(y, y_pred))\n",
    "\n",
    "print(\"\\nConfusion Matrix:\")\n",
    "print(confusion_matrix(y, y_pred))\n"
   ]
  },
  {
   "cell_type": "code",
   "execution_count": null,
   "id": "79030f94",
   "metadata": {},
   "outputs": [],
   "source": [
    "print(\"Done.!\")"
   ]
  }
 ],
 "metadata": {
  "kernelspec": {
   "display_name": "base",
   "language": "python",
   "name": "python3"
  },
  "language_info": {
   "codemirror_mode": {
    "name": "ipython",
    "version": 3
   },
   "file_extension": ".py",
   "mimetype": "text/x-python",
   "name": "python",
   "nbconvert_exporter": "python",
   "pygments_lexer": "ipython3",
   "version": "3.12.4"
  }
 },
 "nbformat": 4,
 "nbformat_minor": 5
}
