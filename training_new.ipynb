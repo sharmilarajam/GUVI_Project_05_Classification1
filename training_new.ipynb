{
 "cells": [
  {
   "cell_type": "code",
   "execution_count": 17,
   "id": "bd7dec6b",
   "metadata": {},
   "outputs": [
    {
     "name": "stdout",
     "output_type": "stream",
     "text": [
      "                    Id  OrgId  IncidentId  AlertId                 Timestamp  \\\n",
      "0         180388628218      0         612   123247  2024-06-04T06:05:15.000Z   \n",
      "1         455266534868     88         326   210035  2024-06-14T03:01:25.000Z   \n",
      "2        1056561957389    809       58352   712507  2024-06-13T04:52:55.000Z   \n",
      "3        1279900258736     92       32992   774301  2024-06-10T16:39:36.000Z   \n",
      "4         214748368522    148        4359   188041  2024-06-15T01:08:07.000Z   \n",
      "...                ...    ...         ...      ...                       ...   \n",
      "9516832  1056561956622      0          90   496631  2024-06-08T15:26:08.000Z   \n",
      "9516833  1228360650033     59      196410   748366  2024-06-06T09:40:08.000Z   \n",
      "9516834   867583395122     44       14117     7425  2024-06-11T22:51:03.000Z   \n",
      "9516835   395136991850     43         644     8973  2024-05-20T23:01:01.000Z   \n",
      "9516836   678604833923     16      141721   644106  2024-06-03T23:51:52.000Z   \n",
      "\n",
      "         DetectorId  AlertTitle           Category MitreTechniques  \\\n",
      "0                 7           6      InitialAccess             NaN   \n",
      "1                58          43       Exfiltration             NaN   \n",
      "2               423         298      InitialAccess           T1189   \n",
      "3                 2           2  CommandAndControl             NaN   \n",
      "4                 9          74          Execution             NaN   \n",
      "...             ...         ...                ...             ...   \n",
      "9516832           7           6      InitialAccess             NaN   \n",
      "9516833           2           2  CommandAndControl             NaN   \n",
      "9516834          78          57       Exfiltration             NaN   \n",
      "9516835          52          10             Impact             NaN   \n",
      "9516836          24         348       Exfiltration             NaN   \n",
      "\n",
      "          IncidentGrade  ... ResourceType Roles OSFamily OSVersion  \\\n",
      "0          TruePositive  ...          NaN   NaN        5        66   \n",
      "1         FalsePositive  ...          NaN   NaN        5        66   \n",
      "2         FalsePositive  ...          NaN   NaN        5        66   \n",
      "3        BenignPositive  ...          NaN   NaN        5        66   \n",
      "4          TruePositive  ...          NaN   NaN        5        66   \n",
      "...                 ...  ...          ...   ...      ...       ...   \n",
      "9516832    TruePositive  ...          NaN   NaN        5        66   \n",
      "9516833  BenignPositive  ...          NaN   NaN        5        66   \n",
      "9516834  BenignPositive  ...          NaN   NaN        5        66   \n",
      "9516835  BenignPositive  ...          NaN   NaN        5        66   \n",
      "9516836  BenignPositive  ...          NaN   NaN        5        66   \n",
      "\n",
      "         AntispamDirection  SuspicionLevel  LastVerdict  CountryCode  State  \\\n",
      "0                      NaN             NaN          NaN           31      6   \n",
      "1                      NaN             NaN          NaN          242   1445   \n",
      "2                      NaN      Suspicious   Suspicious          242   1445   \n",
      "3                      NaN      Suspicious   Suspicious          242   1445   \n",
      "4                      NaN             NaN          NaN          242   1445   \n",
      "...                    ...             ...          ...          ...    ...   \n",
      "9516832                NaN             NaN          NaN          242   1445   \n",
      "9516833                NaN      Suspicious   Suspicious          242   1445   \n",
      "9516834                NaN             NaN          NaN          242   1445   \n",
      "9516835                NaN             NaN          NaN          242   1445   \n",
      "9516836                NaN             NaN          NaN          242   1445   \n",
      "\n",
      "          City  \n",
      "0            3  \n",
      "1        10630  \n",
      "2        10630  \n",
      "3        10630  \n",
      "4        10630  \n",
      "...        ...  \n",
      "9516832  10630  \n",
      "9516833  10630  \n",
      "9516834  10630  \n",
      "9516835  10630  \n",
      "9516836  10630  \n",
      "\n",
      "[9516837 rows x 45 columns]\n"
     ]
    }
   ],
   "source": [
    "import pandas as pd\n",
    "df = pd.read_csv(\"C:\\\\Users\\\\VINOTH\\\\Downloads\\\\GUIDE_Train.csv\\\\GUIDE_Train.csv\")\n",
    "print(df)\n"
   ]
  },
  {
   "cell_type": "code",
   "execution_count": 18,
   "id": "d23888fa",
   "metadata": {},
   "outputs": [
    {
     "data": {
      "text/plain": [
       "Id                          0\n",
       "OrgId                       0\n",
       "IncidentId                  0\n",
       "AlertId                     0\n",
       "Timestamp                   0\n",
       "DetectorId                  0\n",
       "AlertTitle                  0\n",
       "Category                    0\n",
       "MitreTechniques       5468386\n",
       "IncidentGrade           51340\n",
       "ActionGrouped         9460773\n",
       "ActionGranular        9460773\n",
       "EntityType                  0\n",
       "EvidenceRole                0\n",
       "DeviceId                    0\n",
       "Sha256                      0\n",
       "IpAddress                   0\n",
       "Url                         0\n",
       "AccountSid                  0\n",
       "AccountUpn                  0\n",
       "AccountObjectId             0\n",
       "AccountName                 0\n",
       "DeviceName                  0\n",
       "NetworkMessageId            0\n",
       "EmailClusterId        9420025\n",
       "RegistryKey                 0\n",
       "RegistryValueName           0\n",
       "RegistryValueData           0\n",
       "ApplicationId               0\n",
       "ApplicationName             0\n",
       "OAuthApplicationId          0\n",
       "ThreatFamily          9441956\n",
       "FileName                    0\n",
       "FolderPath                  0\n",
       "ResourceIdName              0\n",
       "ResourceType          9509762\n",
       "Roles                 9298686\n",
       "OSFamily                    0\n",
       "OSVersion                   0\n",
       "AntispamDirection     9339535\n",
       "SuspicionLevel        8072708\n",
       "LastVerdict           7282572\n",
       "CountryCode                 0\n",
       "State                       0\n",
       "City                        0\n",
       "dtype: int64"
      ]
     },
     "execution_count": 18,
     "metadata": {},
     "output_type": "execute_result"
    }
   ],
   "source": [
    "df.isnull().sum()\n"
   ]
  },
  {
   "cell_type": "code",
   "execution_count": 20,
   "id": "9343191e",
   "metadata": {},
   "outputs": [],
   "source": [
    "df.isnull().sum()\n",
    "df.dropna(thresh=0.9 * len(df), axis=1, inplace=True)  # drop columns with >90% NaNs\n"
   ]
  },
  {
   "cell_type": "code",
   "execution_count": 16,
   "id": "9f4009ec",
   "metadata": {},
   "outputs": [
    {
     "data": {
      "text/plain": [
       "Id                        0\n",
       "OrgId                     0\n",
       "IncidentId                0\n",
       "AlertId                   0\n",
       "Timestamp                 0\n",
       "DetectorId                0\n",
       "AlertTitle                0\n",
       "Category                  0\n",
       "IncidentGrade         51340\n",
       "EntityType                0\n",
       "EvidenceRole              0\n",
       "DeviceId                  0\n",
       "Sha256                    0\n",
       "IpAddress                 0\n",
       "Url                       0\n",
       "AccountSid                0\n",
       "AccountUpn                0\n",
       "AccountObjectId           0\n",
       "AccountName               0\n",
       "DeviceName                0\n",
       "NetworkMessageId          0\n",
       "RegistryKey               0\n",
       "RegistryValueName         0\n",
       "RegistryValueData         0\n",
       "ApplicationId             0\n",
       "ApplicationName           0\n",
       "OAuthApplicationId        0\n",
       "FileName                  0\n",
       "FolderPath                0\n",
       "ResourceIdName            0\n",
       "OSFamily                  0\n",
       "OSVersion                 0\n",
       "CountryCode               0\n",
       "State                     0\n",
       "City                      0\n",
       "dtype: int64"
      ]
     },
     "execution_count": 16,
     "metadata": {},
     "output_type": "execute_result"
    }
   ],
   "source": [
    "df.isnull().sum()"
   ]
  },
  {
   "cell_type": "code",
   "execution_count": 22,
   "id": "ee97f717",
   "metadata": {},
   "outputs": [],
   "source": [
    "df = df[df['IncidentGrade'].notnull()]"
   ]
  },
  {
   "cell_type": "code",
   "execution_count": 23,
   "id": "bb2d438a",
   "metadata": {},
   "outputs": [
    {
     "data": {
      "text/plain": [
       "Id                    0\n",
       "OrgId                 0\n",
       "IncidentId            0\n",
       "AlertId               0\n",
       "Timestamp             0\n",
       "DetectorId            0\n",
       "AlertTitle            0\n",
       "Category              0\n",
       "IncidentGrade         0\n",
       "EntityType            0\n",
       "EvidenceRole          0\n",
       "DeviceId              0\n",
       "Sha256                0\n",
       "IpAddress             0\n",
       "Url                   0\n",
       "AccountSid            0\n",
       "AccountUpn            0\n",
       "AccountObjectId       0\n",
       "AccountName           0\n",
       "DeviceName            0\n",
       "NetworkMessageId      0\n",
       "RegistryKey           0\n",
       "RegistryValueName     0\n",
       "RegistryValueData     0\n",
       "ApplicationId         0\n",
       "ApplicationName       0\n",
       "OAuthApplicationId    0\n",
       "FileName              0\n",
       "FolderPath            0\n",
       "ResourceIdName        0\n",
       "OSFamily              0\n",
       "OSVersion             0\n",
       "CountryCode           0\n",
       "State                 0\n",
       "City                  0\n",
       "dtype: int64"
      ]
     },
     "execution_count": 23,
     "metadata": {},
     "output_type": "execute_result"
    }
   ],
   "source": [
    "df.isnull().sum()"
   ]
  },
  {
   "cell_type": "code",
   "execution_count": 24,
   "id": "5552994b",
   "metadata": {},
   "outputs": [
    {
     "data": {
      "text/plain": [
       "Id                     int64\n",
       "OrgId                  int64\n",
       "IncidentId             int64\n",
       "AlertId                int64\n",
       "Timestamp             object\n",
       "DetectorId             int64\n",
       "AlertTitle             int64\n",
       "Category              object\n",
       "IncidentGrade         object\n",
       "EntityType            object\n",
       "EvidenceRole          object\n",
       "DeviceId               int64\n",
       "Sha256                 int64\n",
       "IpAddress              int64\n",
       "Url                    int64\n",
       "AccountSid             int64\n",
       "AccountUpn             int64\n",
       "AccountObjectId        int64\n",
       "AccountName            int64\n",
       "DeviceName             int64\n",
       "NetworkMessageId       int64\n",
       "RegistryKey            int64\n",
       "RegistryValueName      int64\n",
       "RegistryValueData      int64\n",
       "ApplicationId          int64\n",
       "ApplicationName        int64\n",
       "OAuthApplicationId     int64\n",
       "FileName               int64\n",
       "FolderPath             int64\n",
       "ResourceIdName         int64\n",
       "OSFamily               int64\n",
       "OSVersion              int64\n",
       "CountryCode            int64\n",
       "State                  int64\n",
       "City                   int64\n",
       "dtype: object"
      ]
     },
     "execution_count": 24,
     "metadata": {},
     "output_type": "execute_result"
    }
   ],
   "source": [
    "df.dtypes\n"
   ]
  },
  {
   "cell_type": "code",
   "execution_count": 25,
   "id": "3eddaf28",
   "metadata": {},
   "outputs": [
    {
     "data": {
      "image/png": "[encoded data removed]",
      "text/plain": [
       "<Figure size 640x480 with 1 Axes>"
      ]
     },
     "metadata": {},
     "output_type": "display_data"
    }
   ],
   "source": [
    "import seaborn as sns\n",
    "import matplotlib.pyplot as plt\n",
    "\n",
    "sns.countplot(x='IncidentGrade', data=df)\n",
    "plt.title(\"Class Distribution of Incident Grades (TP, FP, BP)\")\n",
    "plt.show()\n"
   ]
  },
  {
   "cell_type": "markdown",
   "id": "4a2872db",
   "metadata": {},
   "source": [
    "EQUALLY SAMPLING"
   ]
  },
  {
   "cell_type": "code",
   "execution_count": 26,
   "id": "1dd8846b",
   "metadata": {},
   "outputs": [
    {
     "name": "stdout",
     "output_type": "stream",
     "text": [
      "IncidentGrade\n",
      "FalsePositive     2031967\n",
      "TruePositive      2031967\n",
      "BenignPositive    2031967\n",
      "Name: count, dtype: int64\n"
     ]
    }
   ],
   "source": [
    "from sklearn.utils import resample\n",
    "\n",
    "# Separate majority and minority classes\n",
    "df_majority = df[df['IncidentGrade'] == 'BenignPositive']\n",
    "df_middle   = df[df['IncidentGrade'] == 'TruePositive']\n",
    "df_minority = df[df['IncidentGrade'] == 'FalsePositive']\n",
    "\n",
    "# Set desired number of samples (e.g., equal to the minority class)\n",
    "n_samples = len(df_minority)\n",
    "\n",
    "# Downsample the majority and middle classes\n",
    "df_majority_downsampled = resample(df_majority, \n",
    "                                   replace=False,     # without replacement\n",
    "                                   n_samples=n_samples, \n",
    "                                   random_state=42)\n",
    "\n",
    "df_middle_downsampled = resample(df_middle, \n",
    "                                 replace=False,     \n",
    "                                 n_samples=n_samples, \n",
    "                                 random_state=42)\n",
    "\n",
    "# Combine the downsampled data with the minority class\n",
    "df_balanced = pd.concat([df_majority_downsampled, df_middle_downsampled, df_minority])\n",
    "\n",
    "# Shuffle the resulting dataframe\n",
    "df_balanced = df_balanced.sample(frac=1, random_state=42).reset_index(drop=True)\n",
    "\n",
    "# Check new class distribution\n",
    "print(df_balanced['IncidentGrade'].value_counts())\n"
   ]
  },
  {
   "cell_type": "code",
   "execution_count": 27,
   "id": "c3d29ad5",
   "metadata": {},
   "outputs": [],
   "source": [
    "\n",
    "\n",
    "# Randomly sample 25%\n",
    "sampled_df = df_balanced.sample(frac=0.25, random_state=42)  # Set random_state for reproducibility\n",
    "\n",
    "# Now you can train on sampled_df\n"
   ]
  },
  {
   "cell_type": "markdown",
   "id": "30f92bf3",
   "metadata": {},
   "source": [
    "ENCODING"
   ]
  },
  {
   "cell_type": "code",
   "execution_count": 45,
   "id": "b37b3112",
   "metadata": {},
   "outputs": [],
   "source": [
    "import pandas as pd\n",
    "import pickle\n",
    "from sklearn.preprocessing import LabelEncoder\n",
    "\n",
    "# Assume your 25% sample is already in 'sampled_df'\n",
    "df_encoded = sampled_df.copy()\n",
    "\n",
    "# List of object-type columns (categorical)\n",
    "cat_cols = [\n",
    "    'Timestamp', 'Category', 'IncidentGrade', 'EntityType', 'EvidenceRole'\n",
    "]\n",
    "\n",
    "# Add int64 columns that should be treated as categorical\n",
    "more_cat_cols = [\n",
    "    'AlertTitle', 'DeviceId', 'Sha256', 'IpAddress', 'Url', 'AccountSid',\n",
    "    'AccountUpn', 'AccountObjectId', 'AccountName', 'DeviceName',\n",
    "    'NetworkMessageId', 'RegistryKey', 'RegistryValueName',\n",
    "    'RegistryValueData', 'ApplicationId', 'ApplicationName',\n",
    "    'OAuthApplicationId', 'FileName', 'FolderPath', 'ResourceIdName',\n",
    "    'OSFamily', 'OSVersion', 'CountryCode', 'State', 'City'\n",
    "]\n",
    "\n",
    "# Combine all categorical columns\n",
    "all_cat_cols = cat_cols + more_cat_cols\n",
    "\n",
    "# Dictionary to store label encoders for each column (optional, for inverse_transform later)\n",
    "label_encoders = {}\n",
    "\n",
    "# Apply Label Encoding\n",
    "for col in all_cat_cols:\n",
    "    le = LabelEncoder()\n",
    "    df_encoded[col] = le.fit_transform(df_encoded[col].astype(str))  # ensure input is string\n",
    "    label_encoders[col] = le  # store encoder\n",
    "\n",
    "# Now 'df_encoded' has all categorical columns encoded as numbers\n",
    "\n",
    "with open('label_encoder.pkl', 'wb') as f:\n",
    "    pickle.dump(le, f)\n"
   ]
  },
  {
   "cell_type": "markdown",
   "id": "4de38d46",
   "metadata": {},
   "source": [
    "TRAIN,TEST SPILIT"
   ]
  },
  {
   "cell_type": "code",
   "execution_count": 30,
   "id": "a5350870",
   "metadata": {},
   "outputs": [],
   "source": [
    "from sklearn.model_selection import train_test_split\n",
    "\n",
    "X = sampled_df.drop(columns=['IncidentGrade'])\n",
    "y = sampled_df['IncidentGrade']\n",
    "\n",
    "X_train, X_val, y_train, y_val = train_test_split(X, y, test_size=0.2, stratify=y, random_state=42)\n"
   ]
  },
  {
   "cell_type": "markdown",
   "id": "e0493c6d",
   "metadata": {},
   "source": [
    "FEATURES RELATED TO TARGET SELECTION"
   ]
  },
  {
   "cell_type": "code",
   "execution_count": 38,
   "id": "d4ebf4c1",
   "metadata": {},
   "outputs": [
    {
     "name": "stdout",
     "output_type": "stream",
     "text": [
      "Top 15 selected features: ['OrgId', 'IncidentId', 'AlertId', 'DetectorId', 'AlertTitle', 'Sha256', 'IpAddress', 'AccountObjectId', 'DeviceName', 'NetworkMessageId', 'FileName', 'FolderPath', 'CountryCode', 'State', 'City']\n"
     ]
    }
   ],
   "source": [
    "from sklearn.feature_selection import SelectKBest, f_classif\n",
    "\n",
    "# Use only numeric columns for feature selection\n",
    "X_train_numeric = X_train.select_dtypes(include=['number'])\n",
    "\n",
    "# Apply SelectKBest to choose top 10 features\n",
    "selector = SelectKBest(score_func=f_classif, k=15)\n",
    "X_new = selector.fit_transform(X_train_numeric, y_train)\n",
    "\n",
    "# Get selected feature names\n",
    "selected_features = X_train_numeric.columns[selector.get_support()]\n",
    "print(\"Top 15 selected features:\", selected_features.tolist())\n"
   ]
  },
  {
   "cell_type": "markdown",
   "id": "ad23b677",
   "metadata": {},
   "source": [
    "DECISION TREE CLASSIFIER"
   ]
  },
  {
   "cell_type": "code",
   "execution_count": 49,
   "id": "07126e6e",
   "metadata": {},
   "outputs": [
    {
     "name": "stdout",
     "output_type": "stream",
     "text": [
      "Accuracy: 0.9762430486064404\n",
      "\n",
      "Classification Report:\n",
      "                 precision    recall  f1-score   support\n",
      "\n",
      "BenignPositive       0.98      0.97      0.98    101406\n",
      " FalsePositive       0.97      0.98      0.97    101820\n",
      "  TruePositive       0.98      0.98      0.98    101569\n",
      "\n",
      "      accuracy                           0.98    304795\n",
      "     macro avg       0.98      0.98      0.98    304795\n",
      "  weighted avg       0.98      0.98      0.98    304795\n",
      "\n"
     ]
    }
   ],
   "source": [
    "from sklearn.tree import DecisionTreeClassifier\n",
    "from sklearn.metrics import classification_report, accuracy_score\n",
    "\n",
    "# 1. Initialize the model\n",
    "clf = DecisionTreeClassifier(random_state=42)\n",
    "\n",
    "# 2. Fit the model\n",
    "clf.fit(X_train_numeric[selected_features], y_train)\n",
    "\n",
    "# 3. Predict on validation set\n",
    "y_pred = clf.predict(X_val[selected_features])\n",
    "\n",
    "# 4. Evaluate the model\n",
    "print(\"Accuracy:\", accuracy_score(y_val, y_pred))\n",
    "print(\"\\nClassification Report:\\n\", classification_report(y_val, y_pred))\n",
    "\n",
    "\n",
    "with open('decision_tree_model.pkl', 'wb') as f:\n",
    "    pickle.dump(clf, f)\n",
    "\n",
    "with open('feature_columns.pkl', 'wb') as f:\n",
    "    pickle.dump(X.columns.tolist(), f)    \n"
   ]
  },
  {
   "cell_type": "markdown",
   "id": "e9ab27b3",
   "metadata": {},
   "source": [
    "###XG_BOOST"
   ]
  },
  {
   "cell_type": "code",
   "execution_count": 41,
   "id": "3d0be770",
   "metadata": {},
   "outputs": [],
   "source": [
    "from sklearn.preprocessing import LabelEncoder\n",
    "\n",
    "# Encode target labels\n",
    "le = LabelEncoder()\n",
    "y_train_encoded = le.fit_transform(y_train)\n",
    "y_val_encoded = le.transform(y_val)\n"
   ]
  },
  {
   "cell_type": "code",
   "execution_count": 43,
   "id": "a337d810",
   "metadata": {},
   "outputs": [],
   "source": [
    "# Convert 'Timestamp' in validation set\n",
    "X_val['Timestamp'] = pd.to_datetime(X_val['Timestamp'])\n",
    "\n",
    "# Extract datetime features for validation set\n",
    "X_val['Hour'] = X_val['Timestamp'].dt.hour\n",
    "X_val['DayOfWeek'] = X_val['Timestamp'].dt.dayofweek\n",
    "X_val['Month'] = X_val['Timestamp'].dt.month\n",
    "\n",
    "# Drop the original timestamp\n",
    "X_val = X_val.drop(columns=['Timestamp'])\n",
    "\n",
    "# Now ensure numeric-only columns\n",
    "X_val_numeric = X_val.select_dtypes(include=['number'])\n"
   ]
  },
  {
   "cell_type": "code",
   "execution_count": 44,
   "id": "b830d1ee",
   "metadata": {},
   "outputs": [
    {
     "name": "stderr",
     "output_type": "stream",
     "text": [
      "C:\\Users\\VINOTH\\AppData\\Roaming\\Python\\Python312\\site-packages\\xgboost\\training.py:183: UserWarning: [20:59:48] WARNING: C:\\actions-runner\\_work\\xgboost\\xgboost\\src\\learner.cc:738: \n",
      "Parameters: { \"use_label_encoder\" } are not used.\n",
      "\n",
      "  bst.update(dtrain, iteration=i, fobj=obj)\n"
     ]
    },
    {
     "name": "stdout",
     "output_type": "stream",
     "text": [
      "Accuracy: 0.9084794698075755\n",
      "\n",
      "Classification Report:\n",
      "                 precision    recall  f1-score   support\n",
      "\n",
      "BenignPositive       0.89      0.91      0.90    101406\n",
      " FalsePositive       0.89      0.92      0.91    101820\n",
      "  TruePositive       0.94      0.89      0.92    101569\n",
      "\n",
      "      accuracy                           0.91    304795\n",
      "     macro avg       0.91      0.91      0.91    304795\n",
      "  weighted avg       0.91      0.91      0.91    304795\n",
      "\n",
      "\n",
      "Confusion Matrix:\n",
      " [[92129  6354  2923]\n",
      " [ 5130 94105  2585]\n",
      " [ 5894  5009 90666]]\n"
     ]
    }
   ],
   "source": [
    "import xgboost as xgb\n",
    "from sklearn.metrics import accuracy_score, classification_report, confusion_matrix\n",
    "\n",
    "# Train the model\n",
    "xgb_clf = xgb.XGBClassifier(use_label_encoder=False, eval_metric='mlogloss', random_state=42)\n",
    "xgb_clf.fit(X_train_numeric, y_train_encoded)\n",
    "\n",
    "# Predict\n",
    "y_pred_encoded = xgb_clf.predict(X_val_numeric)\n",
    "y_pred = le.inverse_transform(y_pred_encoded)\n",
    "\n",
    "# # Evaluate\n",
    "# print(\"Accuracy:\", accuracy_score(y_val, y_pred))\n",
    "# print(\"\\nClassification Report:\\n\", classification_report(y_val, y_pred))\n",
    "\n",
    "# Decode predictions back to original labels\n",
    "y_pred = le.inverse_transform(y_pred_encoded)\n",
    "\n",
    "# Evaluate\n",
    "print(\"Accuracy:\", accuracy_score(y_val, y_pred))\n",
    "print(\"\\nClassification Report:\\n\", classification_report(y_val, y_pred))\n",
    "print(\"\\nConfusion Matrix:\\n\", confusion_matrix(y_val, y_pred))\n"
   ]
  },
  {
   "cell_type": "code",
   "execution_count": null,
   "id": "1b5b0880",
   "metadata": {},
   "outputs": [],
   "source": []
  }
 ],
 "metadata": {
  "kernelspec": {
   "display_name": "base",
   "language": "python",
   "name": "python3"
  },
  "language_info": {
   "codemirror_mode": {
    "name": "ipython",
    "version": 3
   },
   "file_extension": ".py",
   "mimetype": "text/x-python",
   "name": "python",
   "nbconvert_exporter": "python",
   "pygments_lexer": "ipython3",
   "version": "3.12.4"
  }
 },
 "nbformat": 4,
 "nbformat_minor": 5
}
